{
  "nbformat": 4,
  "nbformat_minor": 0,
  "metadata": {
    "colab": {
      "provenance": [],
      "authorship_tag": "ABX9TyNcQV3XQVSUb6KH0oRA1YV8",
      "include_colab_link": true
    },
    "kernelspec": {
      "name": "python3",
      "display_name": "Python 3"
    },
    "language_info": {
      "name": "python"
    }
  },
  "cells": [
    {
      "cell_type": "markdown",
      "metadata": {
        "id": "view-in-github",
        "colab_type": "text"
      },
      "source": [
        "<a href=\"https://colab.research.google.com/github/JRCon1/CapstoneProject/blob/main/Independent_Study(Spring_2024).ipynb\" target=\"_parent\"><img src=\"https://colab.research.google.com/assets/colab-badge.svg\" alt=\"Open In Colab\"/></a>"
      ]
    },
    {
      "cell_type": "code",
      "execution_count": null,
      "metadata": {
        "id": "x2rWwugbU5g2"
      },
      "outputs": [],
      "source": [
        "%%capture\n",
        "!pip install empyrial Riskfolio-Lib quantstats\n",
        "\n",
        "import pandas as pd\n",
        "import numpy as np\n",
        "import yfinance as yf\n",
        "import matplotlib.pyplot as plt\n",
        "import empyrical as ep\n",
        "import quantstats as qs\n",
        "import riskfolio as rp\n",
        "import datetime as dt\n",
        "\n",
        "from empyrial import Engine, empyrial\n",
        "from pypfopt.expected_returns import mean_historical_return\n",
        "from pypfopt.risk_models import CovarianceShrinkage\n",
        "from pypfopt.efficient_frontier import EfficientFrontier\n",
        "from pypfopt import expected_returns"
      ]
    },
    {
      "cell_type": "code",
      "source": [
        "#Define the Set of Tickers, Time Interval, and Returns (First set is for training, second is testing)\n",
        "\n",
        "#Define Tickers & Weights\n",
        "tickers = ['VOO', 'QQQ', 'IWM', '^DJI']\n",
        "weights = [0.25, 0.25, 0.25, 0.25]\n",
        "\n",
        "#Define Returns Data Frames\n",
        "returns = pd.DataFrame()\n",
        "returns2 = pd.DataFrame()\n",
        "\n",
        "#Define Timit Limits for Portfolio\n",
        "start = dt.date(2014,1,1)\n",
        "end = dt.date(2018,12,31)\n",
        "#Second Portfolio\n",
        "start2 = dt.date(2019,1,1)\n",
        "end2 = dt.date(2023,12,31)\n",
        "\n",
        "#Download Data\n",
        "for ticker in tickers:\n",
        "    returns[ticker] = yf.download(ticker, start=start, end=end)['Adj Close'].pct_change()\n",
        "for ticker in tickers:\n",
        "    returns2[ticker] = yf.download(ticker, start=start2, end=end2)['Adj Close'].pct_change()"
      ],
      "metadata": {
        "colab": {
          "base_uri": "https://localhost:8080/"
        },
        "id": "JKJRVlHIVGR2",
        "outputId": "27c1cb4b-0a28-4ea1-a97c-5413d5a0ca2a"
      },
      "execution_count": null,
      "outputs": [
        {
          "output_type": "stream",
          "name": "stderr",
          "text": [
            "[*********************100%***********************]  1 of 1 completed\n",
            "[*********************100%***********************]  1 of 1 completed\n",
            "[*********************100%***********************]  1 of 1 completed\n",
            "[*********************100%***********************]  1 of 1 completed\n",
            "[*********************100%***********************]  1 of 1 completed\n",
            "[*********************100%***********************]  1 of 1 completed\n",
            "[*********************100%***********************]  1 of 1 completed\n",
            "[*********************100%***********************]  1 of 1 completed\n"
          ]
        }
      ]
    },
    {
      "cell_type": "code",
      "source": [
        "#Equally Weighted Portfolio\n",
        "EW_Returns = returns2.dot(weights)\n",
        "EW_Returns.name = 'Equal Weight Portfolio'\n",
        "sp500 = yf.download('SPY', start=start2, end=end2)['Adj Close'].pct_change()\n",
        "sp500.name = 'Benchmark (SP 500)'\n",
        "qs.reports.html(EW_Returns, benchmark=sp500, output='EqualWeight.html')"
      ],
      "metadata": {
        "colab": {
          "base_uri": "https://localhost:8080/"
        },
        "id": "eCuYTiQcvCHA",
        "outputId": "9312a5c8-735b-4c5d-f107-3d39ea0d3d34"
      },
      "execution_count": null,
      "outputs": [
        {
          "output_type": "stream",
          "name": "stderr",
          "text": [
            "\r[*********************100%***********************]  1 of 1 completed\n"
          ]
        }
      ]
    },
    {
      "cell_type": "code",
      "source": [
        "#Max Sharpe Portfolio\n",
        "df = yf.download(tickers, start = start, end = end)['Adj Close']\n",
        "mu = mean_historical_return(df, frequency=252)\n",
        "S = CovarianceShrinkage(df).ledoit_wolf()\n",
        "ef = EfficientFrontier(mu, S, weight_bounds=(0.05, 0.35))\n",
        "weights = ef.max_sharpe()\n",
        "cleaned_weights = ef.clean_weights()\n",
        "\n",
        "numeric_values = [value for _, value in cleaned_weights.items()]\n",
        "Sharpe_Returns = returns2.dot(numeric_values)\n",
        "Sharpe_Returns.name = 'Sharpe Portfolio'\n",
        "qs.reports.html(Sharpe_Returns, benchmark=sp500, output='Sharpe_Portfolio.html')"
      ],
      "metadata": {
        "colab": {
          "base_uri": "https://localhost:8080/"
        },
        "id": "ItnJa5vm6Jrl",
        "outputId": "c0f3dc48-e3c1-4ce4-e847-b901625a8f93"
      },
      "execution_count": null,
      "outputs": [
        {
          "output_type": "stream",
          "name": "stderr",
          "text": [
            "[*********************100%***********************]  4 of 4 completed\n"
          ]
        }
      ]
    },
    {
      "cell_type": "code",
      "source": [
        "ef2 = EfficientFrontier(mu, S, weight_bounds=(0.05, 0.35))\n",
        "weights2 = ef2.efficient_return(0.095057)\n",
        "cleaned_weights2 = ef2.clean_weights()\n",
        "cleaned_weights2\n",
        "\n",
        "numeric_values2 = [value for _, value in cleaned_weights2.items()]\n",
        "Efficient_Returns = returns2.dot(numeric_values2)\n",
        "Efficient_Returns.name = 'Efficient Frontier Portfolio'\n",
        "qs.reports.html(Efficient_Returns, benchmark=sp500, output='Efficient_Portfolio.html')"
      ],
      "metadata": {
        "id": "U1Y7FtBi9c7B"
      },
      "execution_count": null,
      "outputs": []
    },
    {
      "cell_type": "code",
      "source": [
        "ef3 = EfficientFrontier(mu, S, weight_bounds=(0.05, 0.35))\n",
        "ef3.max_quadratic_utility()\n",
        "weights3 = ef3.max_quadratic_utility()\n",
        "cleaned_weights3 = ef3.clean_weights()\n",
        "\n",
        "numeric_values3 = [value for _, value in cleaned_weights3.items()]\n",
        "Max_Returns = returns2.dot(numeric_values3)\n",
        "Max_Returns.name = 'Max Quadratic Utility Portfolio'\n",
        "qs.reports.html(Max_Returns, benchmark=sp500, output='Max_Quad_Utility.html')"
      ],
      "metadata": {
        "id": "ZimWEcTrmzTg"
      },
      "execution_count": null,
      "outputs": []
    }
  ]
}